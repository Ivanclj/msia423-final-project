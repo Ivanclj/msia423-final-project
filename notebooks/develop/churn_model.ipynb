{
 "cells": [
  {
   "cell_type": "code",
   "execution_count": 1,
   "metadata": {},
   "outputs": [],
   "source": [
    "# Fix Conda tensorflow for MAC\n",
    "import os\n",
    "os.environ[\"KMP_DUPLICATE_LIB_OK\"]=\"TRUE\""
   ]
  },
  {
   "cell_type": "code",
   "execution_count": 2,
   "metadata": {},
   "outputs": [],
   "source": [
    "import pandas as pd\n",
    "import numpy as np\n",
    "#import matplotlib.pyplot as plt\n",
    "#import seaborn as sns\n",
    "from sklearn.linear_model import LogisticRegression\n",
    "import xgboost as xgb\n",
    "from xgboost import plot_importance\n",
    "from sklearn.model_selection import GridSearchCV\n",
    "from sklearn.model_selection import StratifiedKFold\n",
    "from sklearn.ensemble import RandomForestClassifier\n",
    "from sklearn.model_selection import train_test_split\n",
    "from sklearn.metrics import confusion_matrix, classification_report, roc_auc_score, f1_score\n",
    "#%matplotlib inline"
   ]
  },
  {
   "cell_type": "markdown",
   "metadata": {},
   "source": [
    "# Data Loading and Preprocessing"
   ]
  },
  {
   "cell_type": "code",
   "execution_count": 3,
   "metadata": {},
   "outputs": [],
   "source": [
    "data = pd.read_csv(\"Churn_Modelling.csv\",index_col='RowNumber')"
   ]
  },
  {
   "cell_type": "code",
   "execution_count": 4,
   "metadata": {},
   "outputs": [
    {
     "data": {
      "text/plain": [
       "Index(['CustomerId', 'Surname', 'CreditScore', 'Geography', 'Gender', 'Age',\n",
       "       'Tenure', 'Balance', 'NumOfProducts', 'HasCrCard', 'IsActiveMember',\n",
       "       'EstimatedSalary', 'Exited'],\n",
       "      dtype='object')"
      ]
     },
     "execution_count": 4,
     "metadata": {},
     "output_type": "execute_result"
    }
   ],
   "source": [
    "data.columns"
   ]
  },
  {
   "cell_type": "code",
   "execution_count": 5,
   "metadata": {},
   "outputs": [],
   "source": [
    "# drop unnecessary columns\n",
    "drop = ['CustomerId', 'Surname']\n",
    "data.drop(drop, axis=1, inplace=True)\n",
    "# create dummy for Geography and Gender\n",
    "Geography = pd.get_dummies(data['Geography'], drop_first=True)\n",
    "Gender = pd.get_dummies(data['Gender'], drop_first=True)\n",
    "data.drop(['Geography','Gender'],axis=1,inplace=True)\n",
    "# new dataframe after encode categorical variables as dummies\n",
    "data1 = pd.concat([data,Geography,Gender],axis=1)"
   ]
  },
  {
   "cell_type": "markdown",
   "metadata": {},
   "source": [
    "# Train-Test Split"
   ]
  },
  {
   "cell_type": "markdown",
   "metadata": {},
   "source": [
    "75% train and 25% test random split"
   ]
  },
  {
   "cell_type": "code",
   "execution_count": 6,
   "metadata": {},
   "outputs": [
    {
     "name": "stdout",
     "output_type": "stream",
     "text": [
      "(7000, 11)\n",
      "(3000, 11)\n"
     ]
    }
   ],
   "source": [
    "X = data1.drop('Exited', axis=1)\n",
    "y = data1['Exited']\n",
    "X_train, X_test, y_train, y_test = train_test_split(X, y, test_size=0.3, random_state=42)\n",
    "print(X_train.shape)\n",
    "print(X_test.shape)"
   ]
  },
  {
   "cell_type": "code",
   "execution_count": 7,
   "metadata": {},
   "outputs": [
    {
     "data": {
      "text/plain": [
       "0    7963\n",
       "1    2037\n",
       "Name: Exited, dtype: int64"
      ]
     },
     "execution_count": 7,
     "metadata": {},
     "output_type": "execute_result"
    }
   ],
   "source": [
    "y.value_counts()"
   ]
  },
  {
   "cell_type": "markdown",
   "metadata": {},
   "source": [
    "# Feature Selection"
   ]
  },
  {
   "cell_type": "markdown",
   "metadata": {},
   "source": [
    "crude XGBoost model to select 8 features based on information gain"
   ]
  },
  {
   "cell_type": "code",
   "execution_count": 8,
   "metadata": {},
   "outputs": [],
   "source": [
    "def feature_selection(xtrain, ytrain, learnRate=0.1, maxDepth=3, numEstimators=100):\n",
    "    \"\"\"Function to apply crude xgboost algorithm on training data to select 8 features by gain.\n",
    "    \n",
    "    Args:\n",
    "        xtrain (DataFrame): A DataFrame with features.\n",
    "        ytrain (Series): A Series with correct class label.\n",
    "        learnRate (numeric, optional): Boosting learning rate. Default to 0.1.\n",
    "        maxDepth (numeric, optional): Maximum tree depth for base learners. Default to 3.\n",
    "        numEstimators (numeric, optional): Number of boosted trees to fit. Default to 100.\n",
    "    \n",
    "    Returns:\n",
    "        xgb (:obj:`xgboost.sklearn.XGBClassifier`): The xgboost classifier.    \n",
    "        selected_features (str): The features selected from the model.\n",
    "    \n",
    "    \"\"\"\n",
    "    # initialize the xgboost classifier\n",
    "    xgb_classifier = xgb.XGBClassifier(objective ='binary:logistic', learning_rate = learnRate,\n",
    "                                       max_depth = maxDepth, n_estimators = numEstimators)\n",
    "    \n",
    "    # fit the classifier on training data\n",
    "    xgb_classifier.fit(xtrain,ytrain)\n",
    "    \n",
    "    # get importance (information gain) for each feature\n",
    "    importance = xgb_classifier.get_booster().get_score(importance_type='gain')\n",
    "    # select 8 features with most gain\n",
    "    selected_features = []\n",
    "    for value in sorted(importance.values(), reverse=True)[:8]:\n",
    "        selected_features.append(list(importance.keys())[list(importance.values()).index(value)])\n",
    "    # print cumulative gain of selected features\n",
    "    cum_gain = 0\n",
    "    for feature in selected_features:\n",
    "        cum_gain += importance[feature]\n",
    "    print('cumulative gain of selected features is {:.4f}'.format(cum_gain/sum(importance.values())))\n",
    "    \n",
    "    return xgb_classifier, selected_features"
   ]
  },
  {
   "cell_type": "code",
   "execution_count": 9,
   "metadata": {},
   "outputs": [
    {
     "name": "stdout",
     "output_type": "stream",
     "text": [
      "cumulative gain of selected features is 0.9380\n"
     ]
    },
    {
     "data": {
      "text/plain": [
       "['Age',\n",
       " 'IsActiveMember',\n",
       " 'NumOfProducts',\n",
       " 'Germany',\n",
       " 'Male',\n",
       " 'Balance',\n",
       " 'HasCrCard',\n",
       " 'Tenure']"
      ]
     },
     "execution_count": 9,
     "metadata": {},
     "output_type": "execute_result"
    }
   ],
   "source": [
    "result = feature_selection(X_train,y_train)\n",
    "xgb_bin = result[0]\n",
    "selected_features = result[1]\n",
    "selected_features"
   ]
  },
  {
   "cell_type": "code",
   "execution_count": 10,
   "metadata": {},
   "outputs": [
    {
     "data": {
      "text/plain": [
       "xgboost.sklearn.XGBClassifier"
      ]
     },
     "execution_count": 10,
     "metadata": {},
     "output_type": "execute_result"
    }
   ],
   "source": [
    "type(xgb_bin)"
   ]
  },
  {
   "cell_type": "markdown",
   "metadata": {},
   "source": [
    "# Hyperparameter Tuning"
   ]
  },
  {
   "cell_type": "markdown",
   "metadata": {},
   "source": [
    "1. XGBoost\n",
    "2. Random Forest"
   ]
  },
  {
   "cell_type": "code",
   "execution_count": 10,
   "metadata": {},
   "outputs": [],
   "source": [
    "def xgboost_tuning(xtrain, ytrain, n_estimators, learning_rate, max_depth, selected_features):\n",
    "    \"\"\"Function to run xgboost grid search algorithm on training data to select best tuning parameters.\n",
    "    \n",
    "    Args:\n",
    "        xtrain (DataFrame): A DataFrame with features.\n",
    "        ytrain (Series): A Series with correct class label.\n",
    "        num_estimators (list): Number of boosted trees to fit.\n",
    "        learning_rate (list): Boosting learning rates.\n",
    "        max_depth (list): Maximum tree depths for base learners.\n",
    "        selected_features (list): A list of selected features to train the model on.\n",
    "    \n",
    "    Returns:\n",
    "        clf.best_estimator_ (:obj:`xgboost.sklearn.XGBClassifier`): The best xgboost classifier.\n",
    "    \n",
    "    \"\"\"\n",
    "    # initialize xgboost classifier\n",
    "    xgb_model = xgb.XGBClassifier()\n",
    "    # prepare parameters for grid search\n",
    "    param_grid = dict(learning_rate=learning_rate, n_estimators=n_estimators, max_depth=max_depth)\n",
    "    # run grid search with different combinations of parameters\n",
    "    clf = GridSearchCV(xgb_model, param_grid, n_jobs=5, \n",
    "                       cv=StratifiedKFold(n_splits=5, shuffle=True), \n",
    "                       scoring='roc_auc',\n",
    "                       verbose=2, refit=True)\n",
    "    # fit model on training data\n",
    "    clf.fit(xtrain[selected_features], ytrain)\n",
    "    # return model with best combination of parameters\n",
    "    return clf.best_estimator_"
   ]
  },
  {
   "cell_type": "code",
   "execution_count": 13,
   "metadata": {},
   "outputs": [
    {
     "name": "stdout",
     "output_type": "stream",
     "text": [
      "Fitting 5 folds for each of 64 candidates, totalling 320 fits\n"
     ]
    },
    {
     "name": "stderr",
     "output_type": "stream",
     "text": [
      "[Parallel(n_jobs=5)]: Using backend LokyBackend with 5 concurrent workers.\n",
      "[Parallel(n_jobs=5)]: Done  31 tasks      | elapsed:   16.1s\n",
      "[Parallel(n_jobs=5)]: Done 152 tasks      | elapsed:  1.3min\n",
      "[Parallel(n_jobs=5)]: Done 320 out of 320 | elapsed:  2.8min finished\n"
     ]
    },
    {
     "data": {
      "text/plain": [
       "XGBClassifier(base_score=0.5, booster='gbtree', colsample_bylevel=1,\n",
       "       colsample_bytree=1, gamma=0, learning_rate=0.05, max_delta_step=0,\n",
       "       max_depth=3, min_child_weight=1, missing=None, n_estimators=300,\n",
       "       n_jobs=1, nthread=None, objective='binary:logistic', random_state=0,\n",
       "       reg_alpha=0, reg_lambda=1, scale_pos_weight=1, seed=None,\n",
       "       silent=True, subsample=1)"
      ]
     },
     "execution_count": 13,
     "metadata": {},
     "output_type": "execute_result"
    }
   ],
   "source": [
    "n_estimators = [50, 100, 200, 300]\n",
    "learning_rate = [0.001, 0.01, 0.05, 0.1]\n",
    "max_depth = [3, 4, 5, 6]\n",
    "xgb_model = xgboost_tuning(X_train, y_train, n_estimators, learning_rate, max_depth, selected_features)\n",
    "xgb_model"
   ]
  },
  {
   "cell_type": "code",
   "execution_count": 14,
   "metadata": {},
   "outputs": [
    {
     "data": {
      "text/plain": [
       "XGBClassifier(base_score=0.5, booster='gbtree', colsample_bylevel=1,\n",
       "       colsample_bytree=1, gamma=0, learning_rate=0.05, max_delta_step=0,\n",
       "       max_depth=3, min_child_weight=1, missing=None, n_estimators=300,\n",
       "       n_jobs=1, nthread=None, objective='binary:logistic', random_state=0,\n",
       "       reg_alpha=0, reg_lambda=1, scale_pos_weight=1, seed=None,\n",
       "       silent=True, subsample=1)"
      ]
     },
     "execution_count": 14,
     "metadata": {},
     "output_type": "execute_result"
    }
   ],
   "source": [
    "xgb_model = xgb.XGBClassifier(base_score=0.5, booster='gbtree', colsample_bylevel=1,\n",
    "       colsample_bytree=1, gamma=0, learning_rate=0.05, max_delta_step=0,\n",
    "       max_depth=3, min_child_weight=1, missing=None, n_estimators=300,\n",
    "       n_jobs=1, nthread=None, objective='binary:logistic', random_state=0,\n",
    "       reg_alpha=0, reg_lambda=1, scale_pos_weight=1, seed=None,\n",
    "       silent=True, subsample=1)\n",
    "xgb_model.fit(X_train, y_train)"
   ]
  },
  {
   "cell_type": "code",
   "execution_count": 11,
   "metadata": {},
   "outputs": [],
   "source": [
    "def random_forest_tuning(xtrain, ytrain, n_estimators, max_depth, max_features, selected_features):\n",
    "    \"\"\"Function to run random forest grid search algorithm on training data to select best tuning parameters.\n",
    "    \n",
    "    Args:\n",
    "        xtrain (DataFrame): A DataFrame with features.\n",
    "        ytrain (Series): A Series with correct class label.\n",
    "        num_estimators (list): Number of trees in the forest.\n",
    "        max_depth (list): Maximum tree depths for base learners.\n",
    "        max_features (list): Max number of features considered for splitting a node.\n",
    "        selected_features (list): A list of selected features to train the model on.\n",
    "    \n",
    "    Returns:\n",
    "        rf_cv.best_estimator_ (:obj:`RandomForestClassifier`): The best random forest classifier.\n",
    "    \n",
    "    \"\"\"\n",
    "    # initialize xgboost classifier\n",
    "    rf = RandomForestClassifier()\n",
    "    # prepare parameters for grid search\n",
    "    param_grid = dict(n_estimators=n_estimators, max_depth=max_depth, max_features=max_features)\n",
    "    # run grid search with different combinations of parameters\n",
    "    rf_cv = GridSearchCV(rf, param_grid, n_jobs=5, \n",
    "                         cv=StratifiedKFold(n_splits=5, shuffle=True), \n",
    "                         scoring='roc_auc',\n",
    "                         verbose=2, refit=True)\n",
    "    # fit model on training data\n",
    "    rf_cv.fit(xtrain[selected_features], ytrain)\n",
    "    # return model with best combination of parameters\n",
    "    return rf_cv.best_estimator_"
   ]
  },
  {
   "cell_type": "code",
   "execution_count": 12,
   "metadata": {},
   "outputs": [
    {
     "name": "stdout",
     "output_type": "stream",
     "text": [
      "Fitting 5 folds for each of 64 candidates, totalling 320 fits\n"
     ]
    },
    {
     "name": "stderr",
     "output_type": "stream",
     "text": [
      "[Parallel(n_jobs=5)]: Using backend LokyBackend with 5 concurrent workers.\n",
      "[Parallel(n_jobs=5)]: Done  31 tasks      | elapsed:    8.7s\n",
      "[Parallel(n_jobs=5)]: Done 152 tasks      | elapsed:   39.9s\n",
      "[Parallel(n_jobs=5)]: Done 320 out of 320 | elapsed:  1.9min finished\n"
     ]
    },
    {
     "data": {
      "text/plain": [
       "RandomForestClassifier(bootstrap=True, class_weight=None, criterion='gini',\n",
       "            max_depth=6, max_features=4, max_leaf_nodes=None,\n",
       "            min_impurity_decrease=0.0, min_impurity_split=None,\n",
       "            min_samples_leaf=1, min_samples_split=2,\n",
       "            min_weight_fraction_leaf=0.0, n_estimators=300, n_jobs=None,\n",
       "            oob_score=False, random_state=None, verbose=0,\n",
       "            warm_start=False)"
      ]
     },
     "execution_count": 12,
     "metadata": {},
     "output_type": "execute_result"
    }
   ],
   "source": [
    "n_estimators = [50, 100, 200, 300]\n",
    "max_depth = [3, 4, 5, 6]\n",
    "max_features = [3, 4, 5, 6]\n",
    "rf = random_forest_tuning(X_train, y_train, n_estimators, max_depth, max_features, selected_features)\n",
    "rf"
   ]
  },
  {
   "cell_type": "code",
   "execution_count": 10,
   "metadata": {},
   "outputs": [
    {
     "data": {
      "text/plain": [
       "RandomForestClassifier(bootstrap=True, class_weight=None, criterion='gini',\n",
       "            max_depth=6, max_features=4, max_leaf_nodes=None,\n",
       "            min_impurity_decrease=0.0, min_impurity_split=None,\n",
       "            min_samples_leaf=1, min_samples_split=2,\n",
       "            min_weight_fraction_leaf=0.0, n_estimators=300, n_jobs=None,\n",
       "            oob_score=False, random_state=None, verbose=0,\n",
       "            warm_start=False)"
      ]
     },
     "execution_count": 10,
     "metadata": {},
     "output_type": "execute_result"
    }
   ],
   "source": [
    "rf = RandomForestClassifier(max_depth=6, max_features=4,n_estimators=300)\n",
    "rf.fit(X_train[selected_features],y_train)"
   ]
  },
  {
   "cell_type": "markdown",
   "metadata": {},
   "source": [
    "# Model Comparison"
   ]
  },
  {
   "cell_type": "markdown",
   "metadata": {},
   "source": [
    "Compare AUC and F1 scores across\n",
    "1. Logistic Regression\n",
    "2. Random Forest\n",
    "3. XGBoost"
   ]
  },
  {
   "cell_type": "code",
   "execution_count": 29,
   "metadata": {},
   "outputs": [],
   "source": [
    "# Logistic Regression Model Training\n",
    "def logit(xtrain, ytrain, selected_features):\n",
    "    \"\"\"Function to run logistic regression algorithm on training data.\n",
    "    \n",
    "    Args:\n",
    "        xtrain (DataFrame): A DataFrame with features.\n",
    "        ytrain (Series): A Series with correct class label.\n",
    "        selected_features (list): A list of selected features to train the model on.\n",
    "    \n",
    "    Returns:\n",
    "        logmodel (:obj:`LogisticRegression`): The best xgboost classifier.\n",
    "    \n",
    "    \"\"\"\n",
    "    logmodel = LogisticRegression()\n",
    "    logmodel.fit(X_train[selected_features],y_train)\n",
    "    return logmodel"
   ]
  },
  {
   "cell_type": "code",
   "execution_count": 30,
   "metadata": {},
   "outputs": [
    {
     "name": "stderr",
     "output_type": "stream",
     "text": [
      "/Users/tianfu/anaconda3/lib/python3.7/site-packages/sklearn/linear_model/logistic.py:433: FutureWarning: Default solver will be changed to 'lbfgs' in 0.22. Specify a solver to silence this warning.\n",
      "  FutureWarning)\n"
     ]
    },
    {
     "data": {
      "text/plain": [
       "LogisticRegression(C=1.0, class_weight=None, dual=False, fit_intercept=True,\n",
       "          intercept_scaling=1, max_iter=100, multi_class='warn',\n",
       "          n_jobs=None, penalty='l2', random_state=None, solver='warn',\n",
       "          tol=0.0001, verbose=0, warm_start=False)"
      ]
     },
     "execution_count": 30,
     "metadata": {},
     "output_type": "execute_result"
    }
   ],
   "source": [
    "logmodel = logit(X_train, y_train, selected_features)\n",
    "logmodel"
   ]
  },
  {
   "cell_type": "code",
   "execution_count": 13,
   "metadata": {},
   "outputs": [],
   "source": [
    "def evaluate(model, test_features, test_labels):\n",
    "    \"\"\"Function to evaluate model performance on test data.\n",
    "    \n",
    "    Args:\n",
    "        model (:obj: model trained): Classification model trained.\n",
    "        test_features (DataFrame): A DataFrame as test set with selected features.\n",
    "        test_labels (Series): A Series with correct class label for test set.\n",
    "    \n",
    "    \"\"\"\n",
    "    # prediction results on test set\n",
    "    predictions = model.predict(test_features)\n",
    "\n",
    "    print('################### Model Performance ###################')\n",
    "    print(\"F1-score: \" + str(f1_score(y_test, predictions)))\n",
    "    print(\"AUC: \" + str(roc_auc_score(y_test, predictions)))\n",
    "    print()\n",
    "    print('################### Confusion Matrix ###################')\n",
    "    print(confusion_matrix(test_labels, predictions))\n",
    "    "
   ]
  },
  {
   "cell_type": "code",
   "execution_count": 39,
   "metadata": {},
   "outputs": [
    {
     "name": "stdout",
     "output_type": "stream",
     "text": [
      "################### Model Performance ###################\n",
      "F1-score: 0.0\n",
      "AUC: 0.5\n",
      "\n",
      "################### Confusion Matrix ###################\n",
      "[[2416    0]\n",
      " [ 584    0]]\n"
     ]
    },
    {
     "name": "stderr",
     "output_type": "stream",
     "text": [
      "/Users/tianfu/anaconda3/lib/python3.7/site-packages/sklearn/metrics/classification.py:1143: UndefinedMetricWarning: F-score is ill-defined and being set to 0.0 due to no predicted samples.\n",
      "  'precision', 'predicted', average, warn_for)\n"
     ]
    }
   ],
   "source": [
    "evaluate(logmodel, X_test[selected_features], y_test)"
   ]
  },
  {
   "cell_type": "code",
   "execution_count": 14,
   "metadata": {},
   "outputs": [
    {
     "name": "stdout",
     "output_type": "stream",
     "text": [
      "################### Model Performance ###################\n",
      "F1-score: 0.5770491803278688\n",
      "AUC: 0.712161503220539\n",
      "\n",
      "################### Confusion Matrix ###################\n",
      "[[2349   67]\n",
      " [ 320  264]]\n"
     ]
    }
   ],
   "source": [
    "evaluate(rf, X_test[selected_features], y_test)"
   ]
  },
  {
   "cell_type": "code",
   "execution_count": 25,
   "metadata": {},
   "outputs": [
    {
     "name": "stdout",
     "output_type": "stream",
     "text": [
      "################### Model Performance ###################\n",
      "F1-score: 0.598941798941799\n",
      "AUC: 0.726152136441985\n",
      "\n",
      "################### Confusion Matrix ###################\n",
      "[[2338   78]\n",
      " [ 301  283]]\n"
     ]
    }
   ],
   "source": [
    "evaluate(xgb_model, X_test[selected_features], y_test)"
   ]
  },
  {
   "cell_type": "code",
   "execution_count": 57,
   "metadata": {},
   "outputs": [],
   "source": [
    "def predicted_prob(model, xtest, selected_features):\n",
    "    \"\"\"Function to generate predicted class probabilities for test data.\n",
    "    \n",
    "    Args:\n",
    "        model (:obj: model trained): Classification model trained.\n",
    "        xtest (Series): A DataFrame as test set with features.\n",
    "        selected_features (list): A list of selected features on which the model was trained.\n",
    "    \n",
    "    Returns:\n",
    "        churn_probs (numpy.ndarray): Predicted probability of churn for each observation in test.\n",
    "    \n",
    "    \"\"\"\n",
    "    probs = model.predict_proba(xtest[selected_features])\n",
    "    churn_probs = probs[:,1]\n",
    "    return churn_probs"
   ]
  },
  {
   "cell_type": "code",
   "execution_count": 59,
   "metadata": {},
   "outputs": [
    {
     "data": {
      "text/plain": [
       "array([0.29073487, 0.24275398, 0.21948375, ..., 0.25452591, 0.29221372,\n",
       "       0.2868338 ])"
      ]
     },
     "execution_count": 59,
     "metadata": {},
     "output_type": "execute_result"
    }
   ],
   "source": [
    "logmodel_probs = predicted_prob(logmodel, X_test, selected_features)\n",
    "logmodel_probs\n",
    "#print(logmodel_probs.shape)"
   ]
  },
  {
   "cell_type": "code",
   "execution_count": 60,
   "metadata": {},
   "outputs": [
    {
     "data": {
      "text/plain": [
       "array([0.04316376, 0.06209654, 0.11456036, ..., 0.10320802, 0.01957687,\n",
       "       0.24430829])"
      ]
     },
     "execution_count": 60,
     "metadata": {},
     "output_type": "execute_result"
    }
   ],
   "source": [
    "rf_probs = predicted_prob(rf, X_test, selected_features)\n",
    "rf_probs"
   ]
  },
  {
   "cell_type": "code",
   "execution_count": 61,
   "metadata": {},
   "outputs": [
    {
     "data": {
      "text/plain": [
       "array([0.04434106, 0.03925258, 0.08520908, ..., 0.05524413, 0.01158028,\n",
       "       0.36693183], dtype=float32)"
      ]
     },
     "execution_count": 61,
     "metadata": {},
     "output_type": "execute_result"
    }
   ],
   "source": [
    "xgb_probs = predicted_prob(xgb_model, X_test, selected_features)\n",
    "xgb_probs"
   ]
  },
  {
   "cell_type": "code",
   "execution_count": 80,
   "metadata": {},
   "outputs": [
    {
     "data": {
      "text/plain": [
       "array([[<matplotlib.axes._subplots.AxesSubplot object at 0x1a248417f0>]],\n",
       "      dtype=object)"
      ]
     },
     "execution_count": 80,
     "metadata": {},
     "output_type": "execute_result"
    },
    {
     "data": {
      "image/png": "[encoded data removed]",
      "text/plain": [
       "<Figure size 432x288 with 1 Axes>"
      ]
     },
     "metadata": {
      "needs_background": "light"
     },
     "output_type": "display_data"
    }
   ],
   "source": [
    "pd.DataFrame(rf_probs.tolist(),columns=['p_churn']).hist(bins=30)"
   ]
  },
  {
   "cell_type": "code",
   "execution_count": 79,
   "metadata": {},
   "outputs": [
    {
     "data": {
      "image/png": "[encoded data removed]",
      "text/plain": [
       "<Figure size 432x288 with 1 Axes>"
      ]
     },
     "metadata": {
      "needs_background": "light"
     },
     "output_type": "display_data"
    }
   ],
   "source": [
    "pd.DataFrame(xgb_probs.tolist(),columns=['p_churn']).hist(bins=30)\n",
    "plt.x_label = 'predicted probability of churn'\n",
    "plt.y_label = 'count'"
   ]
  },
  {
   "cell_type": "code",
   "execution_count": null,
   "metadata": {},
   "outputs": [],
   "source": []
  },
  {
   "cell_type": "markdown",
   "metadata": {},
   "source": [
    "# User Input"
   ]
  },
  {
   "cell_type": "code",
   "execution_count": null,
   "metadata": {},
   "outputs": [],
   "source": [
    "def user_features_input(Age,IsActiveMember,NumOfProducts,Germany,Gender,Balance,HasCrCard,Tenure):\n",
    "    \"\"\"Function to handle user inputs of features.\n",
    "    \n",
    "    Args:\n",
    "        Age (str): Age of the customer.\n",
    "        IsActiveMember (str): Whether or not the customer is an active member.\n",
    "        NumOfProducts (str): Number of bank products the customer is using.\n",
    "        Germany (str): Whether or not the customer is a German customer.\n",
    "        Gender (str): Gender of the customer.\n",
    "        Balance (str): Balance left on customer's account.\n",
    "        HasCrCard (str): Whether or not the customer has a credit card.\n",
    "        Tenure (str): How long the customer has been with the bank.\n",
    "        \n",
    "    Returns:\n",
    "        inputs (list): A list of input features.\n",
    "    \n",
    "    \"\"\"\n",
    "    # valid inputs for binary variables\n",
    "    valid_binary = [\"0\",\"1\"]\n",
    "    \n",
    "    inputs = []\n",
    "    \n",
    "    # Age - int\n",
    "    try:\n",
    "        age = int(Age)\n",
    "        if age >= 0 and age <= 110:\n",
    "            inputs.append(age)\n",
    "        else:\n",
    "            return 'Invalid input for Age, must be an integer between 0 and 110!'\n",
    "    except:\n",
    "        return 'Please input a numeric value!'\n",
    "    \n",
    "    # IsActiveMember - binary\n",
    "    try:\n",
    "        if IsActiveMember in valid_binary:\n",
    "            inputs.append(int(IsActiveMember))\n",
    "        else:\n",
    "            return 'Invalid input for IsActiveMember, must be either 0 or 1!'\n",
    "    except:\n",
    "        return 'Please input a numeric value, either 0 or 1!'\n",
    "    \n",
    "    # NumOfProducts - int\n",
    "    try:\n",
    "        numofproducts = int(NumOfProducts)\n",
    "        if numofproducts >= 0:\n",
    "            inputs.append(numofproducts)\n",
    "        else:\n",
    "            return 'Invalid input for NumOfProducts, must be an integer greater than 0!'\n",
    "    except:\n",
    "        return 'Please input a numeric value!'\n",
    "    \n",
    "    # Germany - binary\n",
    "    try:\n",
    "        if Germany in valid_binary:\n",
    "            inputs.append(int(Germany))\n",
    "        else:\n",
    "            return 'Invalid input for Germany, must be either 0 or 1!'\n",
    "    except:\n",
    "        return 'Please input a numeric value, either 0 or 1!'\n",
    "    \n",
    "    # Gender - binary - Male is 1\n",
    "    try:\n",
    "        if Gender in valid_binary:\n",
    "            inputs.append(int(Gender))\n",
    "        else:\n",
    "            return 'Invalid input for Gender, must be either 0 or 1!'\n",
    "    except:\n",
    "        return 'Please input your gender!'\n",
    "    \n",
    "    # Balance - float\n",
    "    try:\n",
    "        balance = float(Balance)\n",
    "        if balance >= 0:\n",
    "            inputs.append(balance)\n",
    "        else:\n",
    "            return 'Invalid input for balance, must be nonnegative!'\n",
    "    except:\n",
    "        return 'Please input a numeric value!'\n",
    "    \n",
    "    # HasCrCard - binary\n",
    "    try:\n",
    "        if HasCrCard in valid_binary:\n",
    "            inputs.append(int(HasCrCard))\n",
    "        else:\n",
    "            return 'Invalid input for HasCrCard, must be either 0 or 1!'\n",
    "    except:\n",
    "        return 'Please input a numeric value, either 0 or 1!'\n",
    "    \n",
    "    # Tenure - int\n",
    "    try:\n",
    "        tenure = int(Tenure)\n",
    "        if tenure >= 0:\n",
    "            inputs.append(tenure)\n",
    "        else:\n",
    "            return 'Invalid input for Tenure, must be an integer greater than 0!'\n",
    "    except:\n",
    "        return 'Please input a numeric value!'\n",
    "    \n",
    "    return inputs\n",
    "    "
   ]
  },
  {
   "cell_type": "code",
   "execution_count": null,
   "metadata": {},
   "outputs": [],
   "source": []
  }
 ],
 "metadata": {
  "kernelspec": {
   "display_name": "Python 3",
   "language": "python",
   "name": "python3"
  },
  "language_info": {
   "codemirror_mode": {
    "name": "ipython",
    "version": 3
   },
   "file_extension": ".py",
   "mimetype": "text/x-python",
   "name": "python",
   "nbconvert_exporter": "python",
   "pygments_lexer": "ipython3",
   "version": "3.7.2"
  }
 },
 "nbformat": 4,
 "nbformat_minor": 2
}
